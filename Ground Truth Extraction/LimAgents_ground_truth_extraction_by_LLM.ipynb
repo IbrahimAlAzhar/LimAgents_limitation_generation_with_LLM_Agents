{
  "nbformat": 4,
  "nbformat_minor": 0,
  "metadata": {
    "colab": {
      "provenance": []
    },
    "kernelspec": {
      "name": "python3",
      "display_name": "Python 3"
    },
    "language_info": {
      "name": "python"
    }
  },
  "cells": [
    {
      "cell_type": "markdown",
      "source": [
        "Ground Truth Extraction"
      ],
      "metadata": {
        "id": "pf9a7pqbKj-V"
      }
    },
    {
      "cell_type": "code",
      "source": [
        "import pandas as pd\n",
        "df = pd.read_csv(\"df.csv\")"
      ],
      "metadata": {
        "id": "HUBTHtPGKy_K"
      },
      "execution_count": null,
      "outputs": []
    },
    {
      "cell_type": "code",
      "source": [
        "import os\n",
        "from openai import OpenAI\n",
        "\n",
        "# --- setup ---\n",
        "os.environ['OPENAI_API_KEY'] = 'YOUR_KEY_HERE'\n",
        "client = OpenAI(api_key=os.environ[\"OPENAI_API_KEY\"])\n",
        "\n",
        "def stream_chat(model, messages, temperature=0):\n",
        "    \"\"\"Return a single concatenated string from a streaming chat completion.\"\"\"\n",
        "    out = []\n",
        "    stream = client.chat.completions.create(\n",
        "        model=model,\n",
        "        messages=messages,\n",
        "        temperature=temperature,\n",
        "        stream=True,\n",
        "    )\n",
        "    for chunk in stream:\n",
        "        out.append(chunk.choices[0].delta.content or \"\")\n",
        "    return \"\".join(out).strip()\n",
        "\n",
        "# =============== 1) EXTRACT FROM df['Limitation'] =================\n",
        "generated_summary = []\n",
        "for i in range(len(df)):\n",
        "    src = str(df.at[i, 'Limitation']) if 'Limitation' in df.columns else \"\"\n",
        "    prompt = (\n",
        "        \"Here is a limitation. Extract sub limitation from this limitation. Each sub limitation contains separate topics, limitation or point. \"\n",
        "        f\"{src}\"\n",
        "    )\n",
        "    text = stream_chat(\n",
        "        \"gpt-4o-mini\",\n",
        "        messages=[{\"role\": \"user\", \"content\": prompt}],\n",
        "        temperature=0\n",
        "    )\n",
        "    generated_summary.append(text)\n",
        "\n",
        "df[\"limitation_extracted\"] = generated_summary  # NEW COLUMN\n",
        "\n",
        "# =============== 2) EXTRACT FROM df['OpenReview'] =================\n",
        "generated_summary1 = []\n",
        "for i in range(len(df)):\n",
        "    src = str(df.at[i, 'OpenReview']) if 'OpenReview' in df.columns else \"\"\n",
        "    prompt = (\n",
        "        \"Here is bunch of reviews. Extract review and each review contains separate topics, limitation or point.\\n\\n\"\n",
        "        f\"{src}\"\n",
        "    )\n",
        "    text = stream_chat(\n",
        "        \"gpt-4o-mini\",\n",
        "        messages=[{\"role\": \"user\", \"content\": prompt}],\n",
        "        temperature=0\n",
        "    )\n",
        "    generated_summary1.append(text)\n",
        "\n",
        "df[\"openreview_extracted\"] = generated_summary1  # NEW COLUMN\n",
        "\n",
        "# =============== 3) MERGE THE TWO EXTRACTIONS =====================\n",
        "merged_texts = []\n",
        "for i in range(len(df)):\n",
        "    A = str(df.at[i, \"limitation_extracted\"] or \"\")\n",
        "    B = str(df.at[i, \"openreview_extracted\"] or \"\")\n",
        "\n",
        "    merge_prompt = f\"\"\"\n",
        "You will receive two texts, A and B, each already extracted as bullet points.\n",
        "\n",
        "Rules (very important):\n",
        "- Merge ONLY by copying exact sentences/points from A and/or B.\n",
        "- Do NOT paraphrase, summarize, reword, or invent anything.\n",
        "- If A and B contain the same/similar points, deduplicate and output a single merged bullet list.\n",
        "- If they are different, output a single bullet list that contains all distinct points from A and B (still copied verbatim).\n",
        "- Preserve original wording. If one is empty, just return the other.\n",
        "- Output only the bullet list, nothing else.\n",
        "\n",
        "Text A:\n",
        "{A}\n",
        "\n",
        "Text B:\n",
        "{B}\n",
        "\"\"\"\n",
        "    merged = stream_chat(\n",
        "        \"gpt-4o-mini\",\n",
        "        messages=[\n",
        "            {\n",
        "                \"role\": \"system\",\n",
        "                \"content\": \"You are a meticulous editor who never adds new content and only copies verbatim items from provided texts.\"\n",
        "            },\n",
        "            {\"role\": \"user\", \"content\": merge_prompt}\n",
        "        ],\n",
        "        temperature=0\n",
        "    )\n",
        "    merged_texts.append(merged)\n",
        "\n",
        "df[\"merged_limitation\"] = merged_texts  # FINAL MERGED COLUMN\n"
      ],
      "metadata": {
        "id": "eUiFrcR8KpCY"
      },
      "execution_count": null,
      "outputs": []
    }
  ]
}